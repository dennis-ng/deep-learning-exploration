{
  "nbformat": 4,
  "nbformat_minor": 0,
  "metadata": {
    "colab": {
      "name": "Implementing DNN layer.ipynb",
      "version": "0.3.2",
      "provenance": [],
      "collapsed_sections": [],
      "include_colab_link": true
    },
    "language_info": {
      "codemirror_mode": {
        "name": "ipython",
        "version": 3
      },
      "file_extension": ".py",
      "mimetype": "text/x-python",
      "name": "python",
      "nbconvert_exporter": "python",
      "pygments_lexer": "ipython3",
      "version": "3.7.1"
    },
    "kernelspec": {
      "name": "python3",
      "display_name": "Python 3"
    },
    "accelerator": "GPU"
  },
  "cells": [
    {
      "cell_type": "markdown",
      "metadata": {
        "id": "view-in-github",
        "colab_type": "text"
      },
      "source": [
        "<a href=\"https://colab.research.google.com/github/dennis-ng/deep-learning-exploration/blob/master/Implementing_DNN_layer.ipynb\" target=\"_parent\"><img src=\"https://colab.research.google.com/assets/colab-badge.svg\" alt=\"Open In Colab\"/></a>"
      ]
    },
    {
      "metadata": {
        "id": "VsGzNmX5Fq4X",
        "colab_type": "code",
        "colab": {}
      },
      "cell_type": "code",
      "source": [
        "import tensorflow as tf\n",
        "import numpy as np"
      ],
      "execution_count": 0,
      "outputs": []
    },
    {
      "metadata": {
        "id": "XeYFfFceFq4a",
        "colab_type": "code",
        "colab": {}
      },
      "cell_type": "code",
      "source": [
        "n_inputs = 28 * 28\n",
        "n_hidden1 = 300\n",
        "n_hidden2 = 100\n",
        "n_outputs = 10"
      ],
      "execution_count": 0,
      "outputs": []
    },
    {
      "metadata": {
        "id": "P7dI8jxiFq4c",
        "colab_type": "code",
        "colab": {}
      },
      "cell_type": "code",
      "source": [
        "tf.reset_default_graph()"
      ],
      "execution_count": 0,
      "outputs": []
    },
    {
      "metadata": {
        "id": "MwghJ30kFq4e",
        "colab_type": "code",
        "colab": {}
      },
      "cell_type": "code",
      "source": [
        "X = tf.placeholder(tf.float32, shape=(None, n_inputs), name='X')\n",
        "y = tf.placeholder(tf.int64, shape=(None), name='y')"
      ],
      "execution_count": 0,
      "outputs": []
    },
    {
      "metadata": {
        "id": "-iiV-Wt9Fq4f",
        "colab_type": "code",
        "colab": {}
      },
      "cell_type": "code",
      "source": [
        "def neuron_layer(X, n_neurons, name, activation=None):\n",
        "    with tf.name_scope(name):\n",
        "        n_inputs = int(X.get_shape()[1])\n",
        "        stddev = 2 / np.sqrt(n_inputs + n_neurons)\n",
        "        init = tf.truncated_normal((n_inputs, n_neurons), stddev=stddev)\n",
        "        W = tf.Variable(init, name='kernel')\n",
        "        b = tf.Variable(tf.zeros([n_neurons]), name='bias')\n",
        "        Z = tf.matmul(X, W) + b\n",
        "        if activation is not None:\n",
        "            return activation(Z)\n",
        "        else:\n",
        "            return Z"
      ],
      "execution_count": 0,
      "outputs": []
    },
    {
      "metadata": {
        "id": "kvvbCgR9Fq4j",
        "colab_type": "code",
        "colab": {
          "base_uri": "https://localhost:8080/",
          "height": 136
        },
        "outputId": "79998c0e-df9a-4cbd-de32-1481b5b6bb40"
      },
      "cell_type": "code",
      "source": [
        "he_init = tf.contrib.layers.variance_scaling_initializer(factor=2., mode='FAN_AVG')"
      ],
      "execution_count": 6,
      "outputs": [
        {
          "output_type": "stream",
          "text": [
            "\n",
            "WARNING: The TensorFlow contrib module will not be included in TensorFlow 2.0.\n",
            "For more information, please see:\n",
            "  * https://github.com/tensorflow/community/blob/master/rfcs/20180907-contrib-sunset.md\n",
            "  * https://github.com/tensorflow/addons\n",
            "If you depend on functionality not listed there, please file an issue.\n",
            "\n"
          ],
          "name": "stdout"
        }
      ]
    },
    {
      "metadata": {
        "id": "Iw4ya3PLFq4l",
        "colab_type": "code",
        "colab": {
          "base_uri": "https://localhost:8080/",
          "height": 139
        },
        "outputId": "75684419-bd8d-478a-a822-ddee25c9bed1"
      },
      "cell_type": "code",
      "source": [
        "with tf.name_scope('dnn'):\n",
        "#     hidden1 = neuron_layer(X, n_hidden1, name='hidden1', activation=tf.nn.relu)\n",
        "#     hidden2 = neuron_layer(hidden1, n_hidden2, name='hidden2', activation=tf.nn.relu)\n",
        "#     logits = neuron_layer(hidden2, n_outputs, name='outputs')\n",
        "    hidden1 = tf.layers.dense(X, n_hidden1, name='hidden1', activation=tf.nn.elu, kernel_initializer=he_init)\n",
        "    hidden2 = tf.layers.dense(hidden1, n_hidden2, name='hidden2', activation=tf.nn.elu, kernel_initializer=he_init)\n",
        "    logits = tf.layers.dense(hidden2, n_outputs, name='outputs')"
      ],
      "execution_count": 7,
      "outputs": [
        {
          "output_type": "stream",
          "text": [
            "WARNING:tensorflow:From <ipython-input-7-e828f9228bf1>:5: dense (from tensorflow.python.layers.core) is deprecated and will be removed in a future version.\n",
            "Instructions for updating:\n",
            "Use keras.layers.dense instead.\n",
            "WARNING:tensorflow:From /usr/local/lib/python3.6/dist-packages/tensorflow/python/framework/op_def_library.py:263: colocate_with (from tensorflow.python.framework.ops) is deprecated and will be removed in a future version.\n",
            "Instructions for updating:\n",
            "Colocations handled automatically by placer.\n"
          ],
          "name": "stdout"
        }
      ]
    },
    {
      "metadata": {
        "id": "KqKGSeHUFq4o",
        "colab_type": "code",
        "colab": {}
      },
      "cell_type": "code",
      "source": [
        "with tf.name_scope('loss'):\n",
        "    xentropy = tf.nn.sparse_softmax_cross_entropy_with_logits(labels=y, logits=logits)\n",
        "    loss = tf.reduce_mean(xentropy, name='loss')"
      ],
      "execution_count": 0,
      "outputs": []
    },
    {
      "metadata": {
        "id": "bKmAsS3WFq4p",
        "colab_type": "code",
        "colab": {}
      },
      "cell_type": "code",
      "source": [
        "learning_rate = 0.01\n",
        "\n",
        "with tf.name_scope('train'):\n",
        "    optimizer = tf.train.GradientDescentOptimizer(learning_rate)\n",
        "    training_op = optimizer.minimize(loss)"
      ],
      "execution_count": 0,
      "outputs": []
    },
    {
      "metadata": {
        "id": "1CX0r2BrFq4s",
        "colab_type": "code",
        "colab": {}
      },
      "cell_type": "code",
      "source": [
        "with tf.name_scope('eval'):\n",
        "    correct = tf.nn.in_top_k(logits, y, 1)\n",
        "    accuracy = tf.reduce_mean(tf.cast(correct, tf.float32))"
      ],
      "execution_count": 0,
      "outputs": []
    },
    {
      "metadata": {
        "id": "ph52uam_Fq4t",
        "colab_type": "code",
        "colab": {}
      },
      "cell_type": "code",
      "source": [
        "init = tf.global_variables_initializer()\n",
        "saver = tf.train.Saver()"
      ],
      "execution_count": 0,
      "outputs": []
    },
    {
      "metadata": {
        "id": "FKOePtbWFq4v",
        "colab_type": "code",
        "colab": {
          "base_uri": "https://localhost:8080/",
          "height": 479
        },
        "outputId": "c7b9775e-c6f3-4cb4-8821-64b9a9de360e"
      },
      "cell_type": "code",
      "source": [
        "from tensorflow.examples.tutorials.mnist import input_data\n",
        "mnist = input_data.read_data_sets('/tmp/data')"
      ],
      "execution_count": 12,
      "outputs": [
        {
          "output_type": "stream",
          "text": [
            "WARNING:tensorflow:From <ipython-input-12-8e0b655384b0>:2: read_data_sets (from tensorflow.contrib.learn.python.learn.datasets.mnist) is deprecated and will be removed in a future version.\n",
            "Instructions for updating:\n",
            "Please use alternatives such as official/mnist/dataset.py from tensorflow/models.\n",
            "WARNING:tensorflow:From /usr/local/lib/python3.6/dist-packages/tensorflow/contrib/learn/python/learn/datasets/mnist.py:260: maybe_download (from tensorflow.contrib.learn.python.learn.datasets.base) is deprecated and will be removed in a future version.\n",
            "Instructions for updating:\n",
            "Please write your own downloading logic.\n",
            "WARNING:tensorflow:From /usr/local/lib/python3.6/dist-packages/tensorflow/contrib/learn/python/learn/datasets/base.py:252: _internal_retry.<locals>.wrap.<locals>.wrapped_fn (from tensorflow.contrib.learn.python.learn.datasets.base) is deprecated and will be removed in a future version.\n",
            "Instructions for updating:\n",
            "Please use urllib or similar directly.\n",
            "Successfully downloaded train-images-idx3-ubyte.gz 9912422 bytes.\n",
            "WARNING:tensorflow:From /usr/local/lib/python3.6/dist-packages/tensorflow/contrib/learn/python/learn/datasets/mnist.py:262: extract_images (from tensorflow.contrib.learn.python.learn.datasets.mnist) is deprecated and will be removed in a future version.\n",
            "Instructions for updating:\n",
            "Please use tf.data to implement this functionality.\n",
            "Extracting /tmp/data/train-images-idx3-ubyte.gz\n",
            "Successfully downloaded train-labels-idx1-ubyte.gz 28881 bytes.\n",
            "WARNING:tensorflow:From /usr/local/lib/python3.6/dist-packages/tensorflow/contrib/learn/python/learn/datasets/mnist.py:267: extract_labels (from tensorflow.contrib.learn.python.learn.datasets.mnist) is deprecated and will be removed in a future version.\n",
            "Instructions for updating:\n",
            "Please use tf.data to implement this functionality.\n",
            "Extracting /tmp/data/train-labels-idx1-ubyte.gz\n",
            "Successfully downloaded t10k-images-idx3-ubyte.gz 1648877 bytes.\n",
            "Extracting /tmp/data/t10k-images-idx3-ubyte.gz\n",
            "Successfully downloaded t10k-labels-idx1-ubyte.gz 4542 bytes.\n",
            "Extracting /tmp/data/t10k-labels-idx1-ubyte.gz\n",
            "WARNING:tensorflow:From /usr/local/lib/python3.6/dist-packages/tensorflow/contrib/learn/python/learn/datasets/mnist.py:290: DataSet.__init__ (from tensorflow.contrib.learn.python.learn.datasets.mnist) is deprecated and will be removed in a future version.\n",
            "Instructions for updating:\n",
            "Please use alternatives such as official/mnist/dataset.py from tensorflow/models.\n"
          ],
          "name": "stdout"
        }
      ]
    },
    {
      "metadata": {
        "id": "j-G4xFHpFq4x",
        "colab_type": "code",
        "colab": {}
      },
      "cell_type": "code",
      "source": [
        "n_epochs = 40\n",
        "batch_size = 50"
      ],
      "execution_count": 0,
      "outputs": []
    },
    {
      "metadata": {
        "id": "k8EG7ZjQFq4z",
        "colab_type": "code",
        "colab": {
          "base_uri": "https://localhost:8080/",
          "height": 697
        },
        "outputId": "b2391be6-999d-4e0e-dcc0-e65af8bb23c9"
      },
      "cell_type": "code",
      "source": [
        "with tf.Session() as sess:\n",
        "    init.run()\n",
        "    for epoch in range(n_epochs):\n",
        "        for iteration in range(mnist.train.num_examples // batch_size):\n",
        "            X_batch, y_batch = mnist.train.next_batch(batch_size)\n",
        "            sess.run(training_op, feed_dict={X: X_batch, y: y_batch})\n",
        "        acc_train = accuracy.eval(feed_dict={X: X_batch, y: y_batch})\n",
        "        acc_val = accuracy.eval(feed_dict={X: mnist.validation.images, y: mnist.validation.labels})\n",
        "        loss_val = loss.eval(feed_dict={X: X_batch, y: y_batch})\n",
        "        print(epoch, 'Training accuracy:', acc_train, 'Val accuracy:', acc_val, 'loss:', loss_val)\n",
        "        save_path = saver.save(sess, './my_model_final.ckpt')"
      ],
      "execution_count": 14,
      "outputs": [
        {
          "output_type": "stream",
          "text": [
            "0 Training accuracy: 0.98 Val accuracy: 0.9088 loss: 0.21968678\n",
            "1 Training accuracy: 0.96 Val accuracy: 0.925 loss: 0.15932378\n",
            "2 Training accuracy: 0.94 Val accuracy: 0.9308 loss: 0.108321875\n",
            "3 Training accuracy: 0.88 Val accuracy: 0.9366 loss: 0.38197166\n",
            "4 Training accuracy: 0.92 Val accuracy: 0.9404 loss: 0.19342834\n",
            "5 Training accuracy: 0.96 Val accuracy: 0.9462 loss: 0.11032152\n",
            "6 Training accuracy: 0.94 Val accuracy: 0.9478 loss: 0.13602088\n",
            "7 Training accuracy: 0.96 Val accuracy: 0.9536 loss: 0.06568544\n",
            "8 Training accuracy: 0.98 Val accuracy: 0.9566 loss: 0.120884694\n",
            "9 Training accuracy: 0.94 Val accuracy: 0.9572 loss: 0.16574404\n",
            "10 Training accuracy: 0.96 Val accuracy: 0.9604 loss: 0.11364205\n",
            "11 Training accuracy: 0.92 Val accuracy: 0.9608 loss: 0.17709666\n",
            "12 Training accuracy: 0.92 Val accuracy: 0.9622 loss: 0.24886318\n",
            "13 Training accuracy: 1.0 Val accuracy: 0.963 loss: 0.032269143\n",
            "14 Training accuracy: 0.98 Val accuracy: 0.965 loss: 0.19872175\n",
            "15 Training accuracy: 0.92 Val accuracy: 0.9644 loss: 0.113527626\n",
            "16 Training accuracy: 1.0 Val accuracy: 0.9644 loss: 0.012722897\n",
            "17 Training accuracy: 0.94 Val accuracy: 0.967 loss: 0.109239906\n",
            "18 Training accuracy: 1.0 Val accuracy: 0.9676 loss: 0.048500318\n",
            "19 Training accuracy: 1.0 Val accuracy: 0.968 loss: 0.041904286\n",
            "20 Training accuracy: 0.94 Val accuracy: 0.9692 loss: 0.11169796\n",
            "21 Training accuracy: 0.96 Val accuracy: 0.9694 loss: 0.09118865\n",
            "22 Training accuracy: 1.0 Val accuracy: 0.9698 loss: 0.05835417\n",
            "23 Training accuracy: 0.98 Val accuracy: 0.9706 loss: 0.039476648\n",
            "24 Training accuracy: 0.96 Val accuracy: 0.9688 loss: 0.07146556\n",
            "25 Training accuracy: 1.0 Val accuracy: 0.971 loss: 0.027305\n",
            "26 Training accuracy: 0.98 Val accuracy: 0.9702 loss: 0.07412751\n",
            "27 Training accuracy: 1.0 Val accuracy: 0.9708 loss: 0.04973776\n",
            "28 Training accuracy: 0.98 Val accuracy: 0.972 loss: 0.16179822\n",
            "29 Training accuracy: 0.98 Val accuracy: 0.972 loss: 0.091993734\n",
            "30 Training accuracy: 0.96 Val accuracy: 0.9718 loss: 0.11517654\n",
            "31 Training accuracy: 0.98 Val accuracy: 0.9714 loss: 0.14418954\n",
            "32 Training accuracy: 1.0 Val accuracy: 0.9716 loss: 0.019011406\n",
            "33 Training accuracy: 0.98 Val accuracy: 0.9738 loss: 0.05710192\n",
            "34 Training accuracy: 1.0 Val accuracy: 0.9732 loss: 0.009216478\n",
            "35 Training accuracy: 0.98 Val accuracy: 0.9738 loss: 0.07439945\n",
            "36 Training accuracy: 1.0 Val accuracy: 0.974 loss: 0.033790957\n",
            "37 Training accuracy: 1.0 Val accuracy: 0.9736 loss: 0.012342969\n",
            "38 Training accuracy: 0.96 Val accuracy: 0.9734 loss: 0.09318341\n",
            "39 Training accuracy: 0.98 Val accuracy: 0.974 loss: 0.043675736\n"
          ],
          "name": "stdout"
        }
      ]
    },
    {
      "metadata": {
        "id": "mj0viKO0Fq41",
        "colab_type": "code",
        "colab": {
          "base_uri": "https://localhost:8080/",
          "height": 105
        },
        "outputId": "7724df4c-6de5-4727-a56c-5f6817128dcc"
      },
      "cell_type": "code",
      "source": [
        "with tf.Session() as sess:\n",
        "    saver.restore(sess, './my_model_final.ckpt')\n",
        "    X_new_scaled = mnist.test.images\n",
        "    Z = logits.eval(feed_dict={X: X_new_scaled})\n",
        "    y_pred = np.argmax(Z, axis=1)"
      ],
      "execution_count": 15,
      "outputs": [
        {
          "output_type": "stream",
          "text": [
            "WARNING:tensorflow:From /usr/local/lib/python3.6/dist-packages/tensorflow/python/training/saver.py:1266: checkpoint_exists (from tensorflow.python.training.checkpoint_management) is deprecated and will be removed in a future version.\n",
            "Instructions for updating:\n",
            "Use standard file APIs to check for files with this prefix.\n",
            "INFO:tensorflow:Restoring parameters from ./my_model_final.ckpt\n"
          ],
          "name": "stdout"
        }
      ]
    },
    {
      "metadata": {
        "id": "YzMnNgJuFq43",
        "colab_type": "code",
        "colab": {
          "base_uri": "https://localhost:8080/",
          "height": 395
        },
        "outputId": "78d3dfc4-2a04-49f6-ef52-2f7b1ed89bb0"
      },
      "cell_type": "code",
      "source": [
        "from sklearn import metrics\n",
        "import matplotlib.pyplot as plt\n",
        "import seaborn as sns\n",
        "cf = (metrics.confusion_matrix(mnist.test.labels, y_pred=y_pred))\n",
        "f, ax = plt.subplots(figsize=(9, 6))\n",
        "sns.heatmap(cf, annot=True, fmt=\"d\", linewidths=.5, ax=ax, cmap='YlGnBu')"
      ],
      "execution_count": 16,
      "outputs": [
        {
          "output_type": "execute_result",
          "data": {
            "text/plain": [
              "<matplotlib.axes._subplots.AxesSubplot at 0x7f594bd7bba8>"
            ]
          },
          "metadata": {
            "tags": []
          },
          "execution_count": 16
        },
        {
          "output_type": "display_data",
          "data": {
            "image/png": "[encoded data removed]",
            "text/plain": [
              "<Figure size 648x432 with 2 Axes>"
            ]
          },
          "metadata": {
            "tags": []
          }
        }
      ]
    },
    {
      "metadata": {
        "id": "RMWKVuHyFq45",
        "colab_type": "code",
        "colab": {
          "base_uri": "https://localhost:8080/",
          "height": 306
        },
        "outputId": "2d29bf75-02ee-44ac-ca2e-b2b75cdd1701"
      },
      "cell_type": "code",
      "source": [
        "print(metrics.classification_report(mnist.test.labels,y_pred=y_pred))"
      ],
      "execution_count": 17,
      "outputs": [
        {
          "output_type": "stream",
          "text": [
            "              precision    recall  f1-score   support\n",
            "\n",
            "           0       0.97      0.99      0.98       980\n",
            "           1       0.99      0.99      0.99      1135\n",
            "           2       0.97      0.97      0.97      1032\n",
            "           3       0.96      0.98      0.97      1010\n",
            "           4       0.98      0.97      0.97       982\n",
            "           5       0.98      0.96      0.97       892\n",
            "           6       0.98      0.98      0.98       958\n",
            "           7       0.97      0.97      0.97      1028\n",
            "           8       0.96      0.96      0.96       974\n",
            "           9       0.97      0.96      0.97      1009\n",
            "\n",
            "   micro avg       0.97      0.97      0.97     10000\n",
            "   macro avg       0.97      0.97      0.97     10000\n",
            "weighted avg       0.97      0.97      0.97     10000\n",
            "\n"
          ],
          "name": "stdout"
        }
      ]
    },
    {
      "metadata": {
        "id": "OAWFKzeAFq48",
        "colab_type": "code",
        "colab": {
          "base_uri": "https://localhost:8080/",
          "height": 51
        },
        "outputId": "e90fb898-dfec-4be8-fa7b-78293761f912"
      },
      "cell_type": "code",
      "source": [
        "with tf.Session() as sess:\n",
        "    saver.restore(sess, './my_model_final.ckpt')\n",
        "    acc_val = accuracy.eval(feed_dict={X: mnist.test.images, y: mnist.test.labels})\n",
        "    print(acc_val)"
      ],
      "execution_count": 18,
      "outputs": [
        {
          "output_type": "stream",
          "text": [
            "INFO:tensorflow:Restoring parameters from ./my_model_final.ckpt\n",
            "0.9741\n"
          ],
          "name": "stdout"
        }
      ]
    },
    {
      "metadata": {
        "id": "N3lRduzrFq4_",
        "colab_type": "code",
        "colab": {}
      },
      "cell_type": "code",
      "source": [
        ""
      ],
      "execution_count": 0,
      "outputs": []
    }
  ]
}